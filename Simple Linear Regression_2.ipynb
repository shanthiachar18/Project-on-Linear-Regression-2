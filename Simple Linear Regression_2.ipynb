{
 "cells": [
  {
   "cell_type": "code",
   "execution_count": 1,
   "id": "193b7dce",
   "metadata": {},
   "outputs": [],
   "source": [
    "# importing the libraries and packages\n",
    "import pandas as pd\n",
    "import numpy as np\n",
    "import math as m\n",
    "import seaborn as sns\n",
    "sns.set_style(\"darkgrid\")\n",
    "import matplotlib.pyplot as plt\n",
    "from sklearn.linear_model import LinearRegression\n",
    "from sklearn.model_selection import train_test_split\n",
    "from sklearn.metrics import r2_score,mean_squared_error"
   ]
  },
  {
   "cell_type": "code",
   "execution_count": 3,
   "id": "914da58d",
   "metadata": {},
   "outputs": [
    {
     "data": {
      "text/html": [
       "<div>\n",
       "<style scoped>\n",
       "    .dataframe tbody tr th:only-of-type {\n",
       "        vertical-align: middle;\n",
       "    }\n",
       "\n",
       "    .dataframe tbody tr th {\n",
       "        vertical-align: top;\n",
       "    }\n",
       "\n",
       "    .dataframe thead th {\n",
       "        text-align: right;\n",
       "    }\n",
       "</style>\n",
       "<table border=\"1\" class=\"dataframe\">\n",
       "  <thead>\n",
       "    <tr style=\"text-align: right;\">\n",
       "      <th></th>\n",
       "      <th>YearsExperience</th>\n",
       "      <th>Salary</th>\n",
       "    </tr>\n",
       "  </thead>\n",
       "  <tbody>\n",
       "    <tr>\n",
       "      <th>0</th>\n",
       "      <td>1.1</td>\n",
       "      <td>39343.0</td>\n",
       "    </tr>\n",
       "    <tr>\n",
       "      <th>1</th>\n",
       "      <td>1.3</td>\n",
       "      <td>46205.0</td>\n",
       "    </tr>\n",
       "    <tr>\n",
       "      <th>2</th>\n",
       "      <td>1.5</td>\n",
       "      <td>37731.0</td>\n",
       "    </tr>\n",
       "    <tr>\n",
       "      <th>3</th>\n",
       "      <td>2.0</td>\n",
       "      <td>43525.0</td>\n",
       "    </tr>\n",
       "    <tr>\n",
       "      <th>4</th>\n",
       "      <td>2.2</td>\n",
       "      <td>39891.0</td>\n",
       "    </tr>\n",
       "  </tbody>\n",
       "</table>\n",
       "</div>"
      ],
      "text/plain": [
       "   YearsExperience   Salary\n",
       "0              1.1  39343.0\n",
       "1              1.3  46205.0\n",
       "2              1.5  37731.0\n",
       "3              2.0  43525.0\n",
       "4              2.2  39891.0"
      ]
     },
     "execution_count": 3,
     "metadata": {},
     "output_type": "execute_result"
    }
   ],
   "source": [
    "# Loading the dataset\n",
    "data = pd.read_csv(\"Salary_Data.csv\")\n",
    "data.head()"
   ]
  },
  {
   "cell_type": "code",
   "execution_count": 4,
   "id": "dc91f063",
   "metadata": {},
   "outputs": [
    {
     "name": "stdout",
     "output_type": "stream",
     "text": [
      "   yrs_exp   salary\n",
      "0      1.1  39343.0\n",
      "1      1.3  46205.0\n",
      "2      1.5  37731.0\n",
      "3      2.0  43525.0\n",
      "4      2.2  39891.0\n"
     ]
    }
   ],
   "source": [
    "# renaming the columns\n",
    "data=data.rename({'YearsExperience':'yrs_exp','Salary':'salary'},axis=1)\n",
    "print(data.head(5))"
   ]
  },
  {
   "cell_type": "code",
   "execution_count": 5,
   "id": "12f83060",
   "metadata": {},
   "outputs": [
    {
     "data": {
      "text/plain": [
       "yrs_exp    0\n",
       "salary     0\n",
       "dtype: int64"
      ]
     },
     "execution_count": 5,
     "metadata": {},
     "output_type": "execute_result"
    }
   ],
   "source": [
    "# checking the missing values--\n",
    "data.isnull().sum()"
   ]
  },
  {
   "cell_type": "code",
   "execution_count": 6,
   "id": "428c0555",
   "metadata": {},
   "outputs": [
    {
     "name": "stdout",
     "output_type": "stream",
     "text": [
      "Index(['yrs_exp', 'salary'], dtype='object')\n",
      "Data types---\n",
      "==========================\n",
      "yrs_exp    float64\n",
      "salary     float64\n",
      "dtype: object\n",
      "==========================\n",
      "Info---\n",
      "<class 'pandas.core.frame.DataFrame'>\n",
      "RangeIndex: 30 entries, 0 to 29\n",
      "Data columns (total 2 columns):\n",
      " #   Column   Non-Null Count  Dtype  \n",
      "---  ------   --------------  -----  \n",
      " 0   yrs_exp  30 non-null     float64\n",
      " 1   salary   30 non-null     float64\n",
      "dtypes: float64(2)\n",
      "memory usage: 608.0 bytes\n",
      "None\n",
      "==========================\n",
      "Average salary---\n",
      "76003\n",
      "Minimum salary---\n",
      "37731\n",
      "Maximum salary---\n",
      "122391\n"
     ]
    }
   ],
   "source": [
    "# printing the basic info about data--\n",
    "print(data.columns)\n",
    "print(\"Data types---\")\n",
    "print(\"==========================\")\n",
    "print(data.dtypes)\n",
    "print(\"==========================\")\n",
    "print(\"Info---\")\n",
    "print(data.info())\n",
    "print(\"==========================\")\n",
    "print(\"Average salary---\")\n",
    "print(int(data[\"salary\"].mean()))\n",
    "print(\"Minimum salary---\")\n",
    "print(int(data[\"salary\"].min()))\n",
    "print(\"Maximum salary---\")\n",
    "print(int(data[\"salary\"].max()))\n"
   ]
  },
  {
   "cell_type": "code",
   "execution_count": 7,
   "id": "bf99c2f1",
   "metadata": {},
   "outputs": [
    {
     "name": "stdout",
     "output_type": "stream",
     "text": [
      "<class 'pandas.core.frame.DataFrame'>\n",
      "RangeIndex: 30 entries, 0 to 29\n",
      "Data columns (total 2 columns):\n",
      " #   Column   Non-Null Count  Dtype  \n",
      "---  ------   --------------  -----  \n",
      " 0   yrs_exp  30 non-null     float64\n",
      " 1   salary   30 non-null     int32  \n",
      "dtypes: float64(1), int32(1)\n",
      "memory usage: 488.0 bytes\n"
     ]
    }
   ],
   "source": [
    "data[\"salary\"]=data[\"salary\"].astype(\"int\")\n",
    "data.head()\n",
    "data.info()"
   ]
  },
  {
   "cell_type": "markdown",
   "id": "e58c2c88",
   "metadata": {},
   "source": [
    "# Exploratory Data Analysis"
   ]
  },
  {
   "cell_type": "code",
   "execution_count": 8,
   "id": "25c89a90",
   "metadata": {},
   "outputs": [
    {
     "name": "stdout",
     "output_type": "stream",
     "text": [
      "AxesSubplot(0.125,0.125;0.775x0.755)\n"
     ]
    },
    {
     "data": {
      "image/png": "[encoded data removed]",
      "text/plain": [
       "<Figure size 432x288 with 1 Axes>"
      ]
     },
     "metadata": {},
     "output_type": "display_data"
    }
   ],
   "source": [
    "# checking the outliers\n",
    "print(sns.boxplot(x=data[\"salary\"],color=\"orange\"))"
   ]
  },
  {
   "cell_type": "code",
   "execution_count": 9,
   "id": "78d59ded",
   "metadata": {},
   "outputs": [
    {
     "name": "stdout",
     "output_type": "stream",
     "text": [
      "AxesSubplot(0.125,0.125;0.775x0.755)\n"
     ]
    },
    {
     "data": {
      "image/png": "[encoded data removed]",
      "text/plain": [
       "<Figure size 432x288 with 1 Axes>"
      ]
     },
     "metadata": {},
     "output_type": "display_data"
    }
   ],
   "source": [
    "print(sns.boxplot(x=data[\"yrs_exp\"],color=\"orange\"))"
   ]
  },
  {
   "cell_type": "code",
   "execution_count": 10,
   "id": "1d384c27",
   "metadata": {},
   "outputs": [
    {
     "name": "stdout",
     "output_type": "stream",
     "text": [
      "0.35411967922959153\n"
     ]
    },
    {
     "data": {
      "image/png": "[encoded data removed]",
      "text/plain": [
       "<Figure size 360x360 with 1 Axes>"
      ]
     },
     "metadata": {},
     "output_type": "display_data"
    }
   ],
   "source": [
    "# distribution of salary--\n",
    "sns.displot(x=data[\"salary\"],color=\"orange\")\n",
    "plt.title(\"Distribution of salary\")\n",
    "print(data[\"salary\"].skew())"
   ]
  },
  {
   "cell_type": "code",
   "execution_count": 11,
   "id": "b9a6f2e2",
   "metadata": {},
   "outputs": [
    {
     "data": {
      "text/plain": [
       "<AxesSubplot:xlabel='yrs_exp', ylabel='salary'>"
      ]
     },
     "execution_count": 11,
     "metadata": {},
     "output_type": "execute_result"
    },
    {
     "data": {
      "image/png": "[encoded data removed]",
      "text/plain": [
       "<Figure size 432x288 with 1 Axes>"
      ]
     },
     "metadata": {},
     "output_type": "display_data"
    }
   ],
   "source": [
    "sns.scatterplot(x=\"yrs_exp\",y=\"salary\",data=data,color=\"orange\")"
   ]
  },
  {
   "cell_type": "code",
   "execution_count": 12,
   "id": "d020bcee",
   "metadata": {},
   "outputs": [
    {
     "data": {
      "text/plain": [
       "<AxesSubplot:xlabel='yrs_exp', ylabel='salary'>"
      ]
     },
     "execution_count": 12,
     "metadata": {},
     "output_type": "execute_result"
    },
    {
     "data": {
      "image/png": "[encoded data removed]",
      "text/plain": [
       "<Figure size 432x288 with 1 Axes>"
      ]
     },
     "metadata": {},
     "output_type": "display_data"
    }
   ],
   "source": [
    "sns.lineplot(x=\"yrs_exp\",y=\"salary\",data=data,estimator=\"sum\",color=\"orange\")"
   ]
  },
  {
   "cell_type": "code",
   "execution_count": 13,
   "id": "b2dbdaef",
   "metadata": {},
   "outputs": [
    {
     "data": {
      "text/plain": [
       "<AxesSubplot:xlabel='yrs_exp', ylabel='salary'>"
      ]
     },
     "execution_count": 13,
     "metadata": {},
     "output_type": "execute_result"
    },
    {
     "data": {
      "image/png": "[encoded data removed]",
      "text/plain": [
       "<Figure size 432x288 with 1 Axes>"
      ]
     },
     "metadata": {},
     "output_type": "display_data"
    }
   ],
   "source": [
    "plt.xticks(rotation=90,fontsize=\"medium\")\n",
    "sns.barplot(x=\"yrs_exp\",y=\"salary\",data=data,color=\"orange\")"
   ]
  },
  {
   "cell_type": "code",
   "execution_count": 14,
   "id": "5d5bcee7",
   "metadata": {},
   "outputs": [
    {
     "data": {
      "text/plain": [
       "<AxesSubplot:xlabel='yrs_exp', ylabel='salary'>"
      ]
     },
     "execution_count": 14,
     "metadata": {},
     "output_type": "execute_result"
    },
    {
     "data": {
      "image/png": "[encoded data removed]",
      "text/plain": [
       "<Figure size 432x288 with 1 Axes>"
      ]
     },
     "metadata": {},
     "output_type": "display_data"
    }
   ],
   "source": [
    "sns.regplot(x=\"yrs_exp\",y=\"salary\",data=data,color=\"orange\")"
   ]
  },
  {
   "cell_type": "code",
   "execution_count": 15,
   "id": "58fec116",
   "metadata": {},
   "outputs": [
    {
     "data": {
      "text/plain": [
       "<AxesSubplot:>"
      ]
     },
     "execution_count": 15,
     "metadata": {},
     "output_type": "execute_result"
    },
    {
     "data": {
      "image/png": "[encoded data removed]",
      "text/plain": [
       "<Figure size 432x288 with 2 Axes>"
      ]
     },
     "metadata": {},
     "output_type": "display_data"
    }
   ],
   "source": [
    "sns.heatmap(data.corr(),annot=True,cmap=\"RdBu\")"
   ]
  },
  {
   "cell_type": "markdown",
   "id": "aa3e90f0",
   "metadata": {},
   "source": [
    "# Linear Regression"
   ]
  },
  {
   "cell_type": "markdown",
   "id": "199a04e4",
   "metadata": {},
   "source": [
    "### Prediction Model of Salary Hike"
   ]
  },
  {
   "cell_type": "code",
   "execution_count": 16,
   "id": "efa58b96",
   "metadata": {},
   "outputs": [
    {
     "name": "stdout",
     "output_type": "stream",
     "text": [
      "   yrs_exp  salary\n",
      "0      1.1   39343\n",
      "1      1.3   46205\n",
      "2      1.5   37731\n",
      "3      2.0   43525\n",
      "4      2.2   39891\n"
     ]
    }
   ],
   "source": [
    "# creating the dataframe\n",
    "df=data\n",
    "print(df.head())"
   ]
  },
  {
   "cell_type": "code",
   "execution_count": 17,
   "id": "a31143db",
   "metadata": {},
   "outputs": [
    {
     "data": {
      "text/plain": [
       "(30, 2)"
      ]
     },
     "execution_count": 17,
     "metadata": {},
     "output_type": "execute_result"
    }
   ],
   "source": [
    "df.shape"
   ]
  },
  {
   "cell_type": "code",
   "execution_count": 18,
   "id": "fcf3226e",
   "metadata": {},
   "outputs": [],
   "source": [
    "# train test split\n",
    "training,testing=train_test_split(df,test_size=0.2)"
   ]
  },
  {
   "cell_type": "code",
   "execution_count": 19,
   "id": "25ed5465",
   "metadata": {},
   "outputs": [
    {
     "name": "stdout",
     "output_type": "stream",
     "text": [
      "    yrs_exp  salary\n",
      "2       1.5   37731\n",
      "17      5.3   83088\n",
      "14      4.5   61111\n",
      "0       1.1   39343\n",
      "12      4.0   56957\n"
     ]
    },
    {
     "data": {
      "text/plain": [
       "(24, 2)"
      ]
     },
     "execution_count": 19,
     "metadata": {},
     "output_type": "execute_result"
    }
   ],
   "source": [
    "print(training.head())\n",
    "training.shape"
   ]
  },
  {
   "cell_type": "code",
   "execution_count": 20,
   "id": "330290ec",
   "metadata": {},
   "outputs": [
    {
     "name": "stdout",
     "output_type": "stream",
     "text": [
      "    yrs_exp  salary\n",
      "10      3.9   63218\n",
      "22      7.9  101302\n",
      "26      9.5  116969\n",
      "8       3.2   64445\n",
      "9       3.7   57189\n"
     ]
    },
    {
     "data": {
      "text/plain": [
       "(6, 2)"
      ]
     },
     "execution_count": 20,
     "metadata": {},
     "output_type": "execute_result"
    }
   ],
   "source": [
    "print(testing.head())\n",
    "testing.shape"
   ]
  },
  {
   "cell_type": "code",
   "execution_count": 21,
   "id": "c12420a5",
   "metadata": {},
   "outputs": [],
   "source": [
    "# defining\n",
    "X=training[\"yrs_exp\"]\n",
    "y=training[\"salary\"]\n",
    "X=X.values.reshape(-1,1)\n",
    "y=y.values.reshape(-1,1)"
   ]
  },
  {
   "cell_type": "code",
   "execution_count": 22,
   "id": "1641bbab",
   "metadata": {},
   "outputs": [
    {
     "name": "stdout",
     "output_type": "stream",
     "text": [
      "LinearRegression()\n"
     ]
    }
   ],
   "source": [
    "model=LinearRegression()\n",
    "print(model)"
   ]
  },
  {
   "cell_type": "code",
   "execution_count": 23,
   "id": "bce4bd2e",
   "metadata": {},
   "outputs": [
    {
     "name": "stdout",
     "output_type": "stream",
     "text": [
      "Model training is completed\n",
      "LinearRegression()\n"
     ]
    }
   ],
   "source": [
    "train_model=model.fit(X,y)\n",
    "print(\"Model training is completed\")\n",
    "print(train_model)"
   ]
  },
  {
   "cell_type": "code",
   "execution_count": 24,
   "id": "fe196207",
   "metadata": {},
   "outputs": [
    {
     "name": "stdout",
     "output_type": "stream",
     "text": [
      "[[9428.31675033]]\n",
      "[25897.7892097]\n"
     ]
    }
   ],
   "source": [
    "print(model.coef_)         \n",
    "print(model.intercept_)"
   ]
  },
  {
   "cell_type": "code",
   "execution_count": 25,
   "id": "1dfd9817",
   "metadata": {},
   "outputs": [
    {
     "name": "stdout",
     "output_type": "stream",
     "text": [
      "Salary with 2.0 yrs of experience is 44754.\n"
     ]
    }
   ],
   "source": [
    "x=2.0\n",
    "y=round((model.coef_[0][0])*x + model.intercept_[0])\n",
    "print(\"Salary with {} yrs of experience is {}.\".format(x,y))"
   ]
  },
  {
   "cell_type": "code",
   "execution_count": 26,
   "id": "95a7c8fe",
   "metadata": {},
   "outputs": [
    {
     "data": {
      "text/plain": [
       "array([[3.9],\n",
       "       [7.9],\n",
       "       [9.5],\n",
       "       [3.2],\n",
       "       [3.7],\n",
       "       [4.1]])"
      ]
     },
     "execution_count": 26,
     "metadata": {},
     "output_type": "execute_result"
    }
   ],
   "source": [
    "X_test=testing[\"yrs_exp\"].values.reshape(-1,1)\n",
    "X_test"
   ]
  },
  {
   "cell_type": "code",
   "execution_count": 27,
   "id": "75fe5c93",
   "metadata": {},
   "outputs": [
    {
     "data": {
      "text/plain": [
       "array([[ 62668.22453599],\n",
       "       [100381.49153732],\n",
       "       [115466.79833786],\n",
       "       [ 56068.40281076],\n",
       "       [ 60782.56118593],\n",
       "       [ 64553.88788606]])"
      ]
     },
     "execution_count": 27,
     "metadata": {},
     "output_type": "execute_result"
    }
   ],
   "source": [
    "pred_salary=train_model.predict(X_test)\n",
    "pred_salary\n"
   ]
  },
  {
   "cell_type": "code",
   "execution_count": 28,
   "id": "5c4f4811",
   "metadata": {},
   "outputs": [
    {
     "name": "stderr",
     "output_type": "stream",
     "text": [
      "<ipython-input-28-dfa7f741c9bb>:1: SettingWithCopyWarning: \n",
      "A value is trying to be set on a copy of a slice from a DataFrame.\n",
      "Try using .loc[row_indexer,col_indexer] = value instead\n",
      "\n",
      "See the caveats in the documentation: https://pandas.pydata.org/pandas-docs/stable/user_guide/indexing.html#returning-a-view-versus-a-copy\n",
      "  testing[\"pred_salary\"]=pred_salary\n"
     ]
    },
    {
     "data": {
      "text/html": [
       "<div>\n",
       "<style scoped>\n",
       "    .dataframe tbody tr th:only-of-type {\n",
       "        vertical-align: middle;\n",
       "    }\n",
       "\n",
       "    .dataframe tbody tr th {\n",
       "        vertical-align: top;\n",
       "    }\n",
       "\n",
       "    .dataframe thead th {\n",
       "        text-align: right;\n",
       "    }\n",
       "</style>\n",
       "<table border=\"1\" class=\"dataframe\">\n",
       "  <thead>\n",
       "    <tr style=\"text-align: right;\">\n",
       "      <th></th>\n",
       "      <th>yrs_exp</th>\n",
       "      <th>salary</th>\n",
       "      <th>pred_salary</th>\n",
       "    </tr>\n",
       "  </thead>\n",
       "  <tbody>\n",
       "    <tr>\n",
       "      <th>10</th>\n",
       "      <td>3.9</td>\n",
       "      <td>63218</td>\n",
       "      <td>62668.224536</td>\n",
       "    </tr>\n",
       "    <tr>\n",
       "      <th>22</th>\n",
       "      <td>7.9</td>\n",
       "      <td>101302</td>\n",
       "      <td>100381.491537</td>\n",
       "    </tr>\n",
       "    <tr>\n",
       "      <th>26</th>\n",
       "      <td>9.5</td>\n",
       "      <td>116969</td>\n",
       "      <td>115466.798338</td>\n",
       "    </tr>\n",
       "    <tr>\n",
       "      <th>8</th>\n",
       "      <td>3.2</td>\n",
       "      <td>64445</td>\n",
       "      <td>56068.402811</td>\n",
       "    </tr>\n",
       "    <tr>\n",
       "      <th>9</th>\n",
       "      <td>3.7</td>\n",
       "      <td>57189</td>\n",
       "      <td>60782.561186</td>\n",
       "    </tr>\n",
       "    <tr>\n",
       "      <th>13</th>\n",
       "      <td>4.1</td>\n",
       "      <td>57081</td>\n",
       "      <td>64553.887886</td>\n",
       "    </tr>\n",
       "  </tbody>\n",
       "</table>\n",
       "</div>"
      ],
      "text/plain": [
       "    yrs_exp  salary    pred_salary\n",
       "10      3.9   63218   62668.224536\n",
       "22      7.9  101302  100381.491537\n",
       "26      9.5  116969  115466.798338\n",
       "8       3.2   64445   56068.402811\n",
       "9       3.7   57189   60782.561186\n",
       "13      4.1   57081   64553.887886"
      ]
     },
     "execution_count": 28,
     "metadata": {},
     "output_type": "execute_result"
    }
   ],
   "source": [
    "testing[\"pred_salary\"]=pred_salary\n",
    "testing"
   ]
  },
  {
   "cell_type": "code",
   "execution_count": 29,
   "id": "7ef07768",
   "metadata": {},
   "outputs": [
    {
     "name": "stderr",
     "output_type": "stream",
     "text": [
      "<ipython-input-29-a86e709dac24>:1: SettingWithCopyWarning: \n",
      "A value is trying to be set on a copy of a slice from a DataFrame.\n",
      "Try using .loc[row_indexer,col_indexer] = value instead\n",
      "\n",
      "See the caveats in the documentation: https://pandas.pydata.org/pandas-docs/stable/user_guide/indexing.html#returning-a-view-versus-a-copy\n",
      "  testing[\"error\"]=testing[\"salary\"]-testing[\"pred_salary\"]\n"
     ]
    },
    {
     "data": {
      "text/html": [
       "<div>\n",
       "<style scoped>\n",
       "    .dataframe tbody tr th:only-of-type {\n",
       "        vertical-align: middle;\n",
       "    }\n",
       "\n",
       "    .dataframe tbody tr th {\n",
       "        vertical-align: top;\n",
       "    }\n",
       "\n",
       "    .dataframe thead th {\n",
       "        text-align: right;\n",
       "    }\n",
       "</style>\n",
       "<table border=\"1\" class=\"dataframe\">\n",
       "  <thead>\n",
       "    <tr style=\"text-align: right;\">\n",
       "      <th></th>\n",
       "      <th>yrs_exp</th>\n",
       "      <th>salary</th>\n",
       "      <th>pred_salary</th>\n",
       "      <th>error</th>\n",
       "    </tr>\n",
       "  </thead>\n",
       "  <tbody>\n",
       "    <tr>\n",
       "      <th>10</th>\n",
       "      <td>3.9</td>\n",
       "      <td>63218</td>\n",
       "      <td>62668.224536</td>\n",
       "      <td>549.775464</td>\n",
       "    </tr>\n",
       "    <tr>\n",
       "      <th>22</th>\n",
       "      <td>7.9</td>\n",
       "      <td>101302</td>\n",
       "      <td>100381.491537</td>\n",
       "      <td>920.508463</td>\n",
       "    </tr>\n",
       "    <tr>\n",
       "      <th>26</th>\n",
       "      <td>9.5</td>\n",
       "      <td>116969</td>\n",
       "      <td>115466.798338</td>\n",
       "      <td>1502.201662</td>\n",
       "    </tr>\n",
       "    <tr>\n",
       "      <th>8</th>\n",
       "      <td>3.2</td>\n",
       "      <td>64445</td>\n",
       "      <td>56068.402811</td>\n",
       "      <td>8376.597189</td>\n",
       "    </tr>\n",
       "    <tr>\n",
       "      <th>9</th>\n",
       "      <td>3.7</td>\n",
       "      <td>57189</td>\n",
       "      <td>60782.561186</td>\n",
       "      <td>-3593.561186</td>\n",
       "    </tr>\n",
       "    <tr>\n",
       "      <th>13</th>\n",
       "      <td>4.1</td>\n",
       "      <td>57081</td>\n",
       "      <td>64553.887886</td>\n",
       "      <td>-7472.887886</td>\n",
       "    </tr>\n",
       "  </tbody>\n",
       "</table>\n",
       "</div>"
      ],
      "text/plain": [
       "    yrs_exp  salary    pred_salary        error\n",
       "10      3.9   63218   62668.224536   549.775464\n",
       "22      7.9  101302  100381.491537   920.508463\n",
       "26      9.5  116969  115466.798338  1502.201662\n",
       "8       3.2   64445   56068.402811  8376.597189\n",
       "9       3.7   57189   60782.561186 -3593.561186\n",
       "13      4.1   57081   64553.887886 -7472.887886"
      ]
     },
     "execution_count": 29,
     "metadata": {},
     "output_type": "execute_result"
    }
   ],
   "source": [
    "testing[\"error\"]=testing[\"salary\"]-testing[\"pred_salary\"]\n",
    "testing"
   ]
  },
  {
   "cell_type": "code",
   "execution_count": 30,
   "id": "e150e5bc",
   "metadata": {},
   "outputs": [
    {
     "data": {
      "text/plain": [
       "0.957185662754508"
      ]
     },
     "execution_count": 30,
     "metadata": {},
     "output_type": "execute_result"
    }
   ],
   "source": [
    "r2_score(testing[\"salary\"],testing[\"pred_salary\"])"
   ]
  },
  {
   "cell_type": "code",
   "execution_count": 31,
   "id": "92bee08e",
   "metadata": {},
   "outputs": [
    {
     "data": {
      "text/plain": [
       "<AxesSubplot:xlabel='yrs_exp', ylabel='salary'>"
      ]
     },
     "execution_count": 31,
     "metadata": {},
     "output_type": "execute_result"
    },
    {
     "data": {
      "image/png": "[encoded data removed]",
      "text/plain": [
       "<Figure size 432x288 with 1 Axes>"
      ]
     },
     "metadata": {},
     "output_type": "display_data"
    }
   ],
   "source": [
    "sns.regplot(x=\"yrs_exp\",y=\"salary\",data=training,color=\"orange\")"
   ]
  },
  {
   "cell_type": "code",
   "execution_count": 32,
   "id": "b0ad42f4",
   "metadata": {},
   "outputs": [
    {
     "data": {
      "text/plain": [
       "<AxesSubplot:xlabel='yrs_exp', ylabel='pred_salary'>"
      ]
     },
     "execution_count": 32,
     "metadata": {},
     "output_type": "execute_result"
    },
    {
     "data": {
      "image/png": "[encoded data removed]",
      "text/plain": [
       "<Figure size 432x288 with 1 Axes>"
      ]
     },
     "metadata": {},
     "output_type": "display_data"
    }
   ],
   "source": [
    "sns.regplot(x=\"yrs_exp\",y=\"pred_salary\",data=testing,color=\"orange\")"
   ]
  },
  {
   "cell_type": "code",
   "execution_count": null,
   "id": "fb163479",
   "metadata": {},
   "outputs": [],
   "source": []
  }
 ],
 "metadata": {
  "kernelspec": {
   "display_name": "Python 3",
   "language": "python",
   "name": "python3"
  },
  "language_info": {
   "codemirror_mode": {
    "name": "ipython",
    "version": 3
   },
   "file_extension": ".py",
   "mimetype": "text/x-python",
   "name": "python",
   "nbconvert_exporter": "python",
   "pygments_lexer": "ipython3",
   "version": "3.8.8"
  }
 },
 "nbformat": 4,
 "nbformat_minor": 5
}
